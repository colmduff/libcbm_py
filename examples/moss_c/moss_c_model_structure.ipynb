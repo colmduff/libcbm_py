{
 "cells": [
  {
   "cell_type": "code",
   "execution_count": null,
   "id": "2f4f032a",
   "metadata": {},
   "outputs": [],
   "source": [
    "import os\n",
    "import pandas as pd\n",
    "from types import SimpleNamespace"
   ]
  },
  {
   "cell_type": "code",
   "execution_count": null,
   "id": "f1b2877e",
   "metadata": {},
   "outputs": [],
   "source": [
    "from libcbm import resources\n",
    "from libcbm.model.moss_c import model_context\n",
    "from libcbm.model.moss_c import model"
   ]
  },
  {
   "cell_type": "markdown",
   "id": "cbc8a388",
   "metadata": {},
   "source": [
    "The moss c pools are defined in a python enumeration, and can be fetched as in the following example"
   ]
  },
  {
   "cell_type": "code",
   "execution_count": null,
   "id": "574c6428",
   "metadata": {},
   "outputs": [],
   "source": [
    "# get the moss C pools\n",
    "from libcbm.model.moss_c.pools import Pool\n",
    "for pool in Pool:\n",
    "    print(pool.name)"
   ]
  },
  {
   "cell_type": "code",
   "execution_count": null,
   "id": "0f0cd4e3",
   "metadata": {},
   "outputs": [],
   "source": [
    "Pool.Input.value"
   ]
  },
  {
   "cell_type": "markdown",
   "id": "2e98f161",
   "metadata": {},
   "source": [
    "Some moss c model test cases, and example datasets are included in the [libcbm test resources dir](https://github.com/cat-cfs/libcbm_py/tree/master/libcbm/resources/test)"
   ]
  },
  {
   "cell_type": "code",
   "execution_count": null,
   "id": "dcf47844",
   "metadata": {},
   "outputs": [],
   "source": [
    "test_data_dir = os.path.join(\n",
    "   resources.get_test_resources_dir(),\n",
    "    \"moss_c_test_case\")"
   ]
  },
  {
   "cell_type": "markdown",
   "id": "52f5d2f1",
   "metadata": {},
   "source": [
    "Assembling the moss c [model context]()"
   ]
  },
  {
   "cell_type": "code",
   "execution_count": null,
   "id": "98be348d",
   "metadata": {},
   "outputs": [],
   "source": [
    "ctx = model_context.create_from_csv(test_data_dir)"
   ]
  },
  {
   "cell_type": "markdown",
   "id": "8b0e40e3",
   "metadata": {},
   "source": [
    "Run the model spinup routine.  The model context will be altered in-place by the spinup process.\n",
    "\n",
    "Setting enable_debugging=True will make the spinup method return a detailed timestep-by-timestep account of the spinup process, but will incur a significant processing and memory consumption cost."
   ]
  },
  {
   "cell_type": "code",
   "execution_count": null,
   "id": "94c7e6a1",
   "metadata": {},
   "outputs": [],
   "source": [
    "spinup_debug = model.spinup(ctx, enable_debugging=True)"
   ]
  },
  {
   "cell_type": "code",
   "execution_count": null,
   "id": "0c8c5447",
   "metadata": {},
   "outputs": [],
   "source": [
    "spinup_debug.spinup_vars"
   ]
  },
  {
   "cell_type": "code",
   "execution_count": null,
   "id": "142e7d82",
   "metadata": {},
   "outputs": [],
   "source": [
    "spinup_debug.spinup_vars.set_index(\"t\").plot(figsize=(10,10))"
   ]
  },
  {
   "cell_type": "code",
   "execution_count": null,
   "id": "fa5b6a26",
   "metadata": {},
   "outputs": [],
   "source": [
    "spinup_debug.model_state\n",
    "ms = spinup_debug.model_state.copy()\n",
    "ms.set_index(\"t\").drop(columns=[]).plot(figsize=(15,10))"
   ]
  },
  {
   "cell_type": "code",
   "execution_count": null,
   "id": "84402613",
   "metadata": {},
   "outputs": [],
   "source": [
    "p = spinup_debug.pools.copy()\n",
    "p[\"total_slow\"] = p[[\"FeatherMossSlow\", \"SphagnumMossSlow\"]].sum(axis=1)\n",
    "p.drop(columns=[\"Input\",\"CO2\",\"CH4\",\"CO\"]).set_index(\"t\").plot(figsize=(15,10))"
   ]
  },
  {
   "cell_type": "code",
   "execution_count": null,
   "id": "a6988dc1",
   "metadata": {
    "lines_to_next_cell": 0
   },
   "outputs": [],
   "source": [
    "spinup_debug.pools"
   ]
  },
  {
   "cell_type": "code",
   "execution_count": null,
   "id": "0c2a42fd",
   "metadata": {},
   "outputs": [],
   "source": []
  }
 ],
 "metadata": {
  "jupytext": {
   "formats": "ipynb,md"
  },
  "kernelspec": {
   "display_name": "Python 3",
   "language": "python",
   "name": "python3"
  }
 },
 "nbformat": 4,
 "nbformat_minor": 5
}
