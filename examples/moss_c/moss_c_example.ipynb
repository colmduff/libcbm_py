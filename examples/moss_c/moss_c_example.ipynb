{
 "cells": [
  {
   "cell_type": "code",
   "execution_count": null,
   "id": "afe26d4e",
   "metadata": {},
   "outputs": [],
   "source": [
    "import os\n",
    "import numpy as np\n",
    "import pandas as pd\n",
    "from types import SimpleNamespace"
   ]
  },
  {
   "cell_type": "code",
   "execution_count": null,
   "id": "50520ff4",
   "metadata": {},
   "outputs": [],
   "source": [
    "from libcbm import resources\n",
    "from libcbm.model.moss_c import model_context\n",
    "from libcbm.model.moss_c import model\n",
    "from libcbm.model.moss_c import pools"
   ]
  },
  {
   "cell_type": "code",
   "execution_count": null,
   "id": "d3c8eb63",
   "metadata": {},
   "outputs": [],
   "source": [
    "data_dir = os.path.join(\n",
    "   resources.get_test_resources_dir(),\n",
    "    \"moss_c_multiple_stands\")"
   ]
  },
  {
   "cell_type": "code",
   "execution_count": null,
   "id": "d9b7b1ac",
   "metadata": {},
   "outputs": [],
   "source": [
    "ctx = model_context.create_from_csv(data_dir)"
   ]
  },
  {
   "cell_type": "code",
   "execution_count": null,
   "id": "b37d62ae",
   "metadata": {},
   "outputs": [],
   "source": [
    "model.spinup(ctx)"
   ]
  },
  {
   "cell_type": "code",
   "execution_count": null,
   "id": "db83d66d",
   "metadata": {},
   "outputs": [],
   "source": [
    "pools_by_timestep = pd.DataFrame()\n",
    "flux_by_timestep = pd.DataFrame()"
   ]
  },
  {
   "cell_type": "code",
   "execution_count": null,
   "id": "1b14eecd",
   "metadata": {},
   "outputs": [],
   "source": [
    "pools_0 = ctx.get_pools_df()\n",
    "pools_0.insert(0, \"t\", 0)\n",
    "pools_by_timestep = pools_by_timestep.append(pools_0)\n",
    "\n",
    "for t in range(1,100):\n",
    "    if t == 20:\n",
    "        # disturb everything to demonstrate how this works\n",
    "        ctx.state.disturbance_type[:] = 1\n",
    "    else: \n",
    "        ctx.state.disturbance_type[:] = 0\n",
    "    model.step(ctx)\n",
    "    \n",
    "    pools_t = ctx.get_pools_df()\n",
    "    pools_t.insert(0, \"t\", t)\n",
    "    pools_by_timestep = pools_by_timestep.append(pools_t)\n",
    "    \n",
    "    flux_t = ctx.flux.copy()\n",
    "    flux_t.insert(0, \"t\", t)\n",
    "    flux_by_timestep = flux_by_timestep.append(flux_t)\n",
    "    "
   ]
  },
  {
   "cell_type": "code",
   "execution_count": null,
   "id": "e5cf80c5",
   "metadata": {},
   "outputs": [],
   "source": [
    "pools_by_timestep.groupby(\"t\").sum()[[p.name for p in pools.ECOSYSTEM_POOLS]].plot(figsize=(10,8))"
   ]
  },
  {
   "cell_type": "code",
   "execution_count": null,
   "id": "52c8d0c2",
   "metadata": {},
   "outputs": [],
   "source": [
    "flux_by_timestep[[\"t\",\"NPPFeatherMoss\", \"NPPSphagnumMoss\"]].groupby(\"t\").sum().plot(figsize=(10,8))\n"
   ]
  },
  {
   "cell_type": "code",
   "execution_count": null,
   "id": "6275bc2b",
   "metadata": {},
   "outputs": [],
   "source": [
    "flux_by_timestep.groupby(\"t\").sum().plot(figsize=(15,10))"
   ]
  },
  {
   "cell_type": "code",
   "execution_count": null,
   "id": "98be0c8d",
   "metadata": {},
   "outputs": [],
   "source": []
  }
 ],
 "metadata": {
  "jupytext": {
   "formats": "ipynb,md"
  },
  "kernelspec": {
   "display_name": "Python 3",
   "language": "python",
   "name": "python3"
  }
 },
 "nbformat": 4,
 "nbformat_minor": 5
}
